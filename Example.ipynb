{
 "cells": [
  {
   "cell_type": "markdown",
   "metadata": {},
   "source": [
    "## Import packages and define functions"
   ]
  },
  {
   "cell_type": "code",
   "execution_count": null,
   "metadata": {},
   "outputs": [],
   "source": [
    "%matplotlib qt\n",
    "import mne\n",
    "import numpy as np\n",
    "import pandas as pd\n",
    "import scipy.stats as ss\n",
    "import matplotlib.pyplot as plt\n",
    "from artifact_blocking import run_ab\n",
    "from statsmodels.stats.multitest import fdrcorrection"
   ]
  },
  {
   "cell_type": "code",
   "execution_count": null,
   "metadata": {},
   "outputs": [],
   "source": [
    "def preprocess(filepath, evcode_files):\n",
    "    \n",
    "    # Load the EEG file and extract trigger times\n",
    "    eeg = mne.io.read_raw_egi(filepath, preload=True)\n",
    "    events = mne.find_events(eeg)\n",
    "    \n",
    "    # Keep channels E1-E128\n",
    "    channels = ['E%s' % i for i in range(1, 129)]\n",
    "    eeg = eeg.pick_channels(channels)\n",
    "    \n",
    "    # Select only events with trigger code 1\n",
    "    events = events[events[:, 2] == 1]\n",
    "\n",
    "    # Re-code events using codes found in evcode_files\n",
    "    evcodes = []\n",
    "    for f in evcode_files:\n",
    "        evcodes.append(pd.read_csv(f, header=None))\n",
    "    evcodes = np.concatenate(evcodes).flatten()\n",
    "    events[:, 2] = evcodes\n",
    "    \n",
    "    # .5-40 Hz bandpass FIR filter\n",
    "    l_freq = .5\n",
    "    h_freq = 40\n",
    "    l_trans_bandwidth = 'auto'\n",
    "    h_trans_bandwidth = 'auto'\n",
    "    filter_length = 'auto'\n",
    "    fir_window = 'hamming'\n",
    "    phase = 'zero'\n",
    "    picks = None\n",
    "    eeg = eeg.filter(l_freq, h_freq, method='fir', fir_design='firwin', l_trans_bandwidth=l_trans_bandwidth, h_trans_bandwidth=h_trans_bandwidth, filter_length=filter_length, fir_window=fir_window, phase=phase, pad='reflect_limited', picks=picks)\n",
    "\n",
    "    # Clean data using artifact blocking\n",
    "    run_ab(eeg, threshold=75, method='window')\n",
    "    \n",
    "    # Epoch data around the trigger pulses in the EEG recording\n",
    "    eeg = mne.Epochs(eeg, events, tmin=-.8, tmax=1.6, preload=True)\n",
    "\n",
    "    # Apply common average reference\n",
    "    eeg = eeg.set_eeg_reference(ref_channels='average')\n",
    "    \n",
    "    # Baseline correct epochs\n",
    "    start = None\n",
    "    stop = 0\n",
    "    eeg = eeg.apply_baseline((start, stop))\n",
    "    \n",
    "    # Reject epochs using peak-to-peak amplitude (in uV)\n",
    "    threshold = 200\n",
    "    eeg = eeg.drop_bad({'eeg': threshold / 1000000.})\n",
    "    \n",
    "    return eeg\n",
    "\n",
    "def frequency_tagging(data, sampling_rate):\n",
    "\n",
    "    # Run FFT\n",
    "    nfreqs = data.shape[1]\n",
    "    freqs = np.fft.fftfreq(nfreqs, d=1/sampling_rate)\n",
    "    amp = np.abs(np.fft.fft(data, n=nfreqs, axis=1))\n",
    "    amp = amp[:, freqs >= 0]\n",
    "    freqs = freqs[freqs >= 0]\n",
    "\n",
    "    # Subtract neighboring bins\n",
    "    sub_amp = np.empty_like(amp)\n",
    "    sub_amp[:, 0] = amp[:, 0] - amp[:, 1]\n",
    "    for i in range(1, amp.shape[1] - 1):\n",
    "        sub_amp[:, i] = amp[:, i] - (amp[:, i-1] + amp[:, i+1]) * .5\n",
    "    sub_amp[:, -1] = amp[:, -1] - amp[:, -2]\n",
    "    sub_amp[sub_amp < 0] = 0  # Don't allow negative amplitudes\n",
    "\n",
    "    # Average amplitudes across neighboring bins\n",
    "    norm_amp = np.zeros((sub_amp.shape[0], len(freqs)))\n",
    "    norm_amp[:, 0] = np.mean(sub_amp[:, :2], axis=1)\n",
    "    for i in range(1, sub_amp.shape[1] - 1):\n",
    "        norm_amp[:, i] = np.mean(sub_amp[:, i-1:i+2], axis=1)\n",
    "    norm_amp[:, -1] = np.mean(sub_amp[:, -2:], axis=1)\n",
    "    \n",
    "    return freqs, norm_amp\n",
    "    "
   ]
  },
  {
   "cell_type": "markdown",
   "metadata": {},
   "source": [
    "## Define which files belong to each participant"
   ]
  },
  {
   "cell_type": "code",
   "execution_count": null,
   "metadata": {},
   "outputs": [],
   "source": [
    "eegfiles = dict(\n",
    "    s11 = 'C://Users/jpazd/Downloads/Adult_11_D.mff',\n",
    "    s12 = 'C://Users/jpazd/Downloads/Adult_12_D.mff',\n",
    ")\n",
    "\n",
    "evcode_files = dict(\n",
    "    s11 = ['C://Users/jpazd/Downloads/Video_Trigger_files/DupWav6min2.csv', \n",
    "          'C://Users/jpazd/Downloads/Video_Trigger_files/DupWav6min4.csv', \n",
    "          'C://Users/jpazd/Downloads/Video_Trigger_files/DupWav6min6.csv'],\n",
    "    \n",
    "    s12 = ['C://Users/jpazd/Downloads/Video_Trigger_files/DupWav6min5.csv', \n",
    "          'C://Users/jpazd/Downloads/Video_Trigger_files/DupWav6min7.csv', \n",
    "          'C://Users/jpazd/Downloads/Video_Trigger_files/DupWav6min9.csv']\n",
    ")"
   ]
  },
  {
   "cell_type": "markdown",
   "metadata": {},
   "source": [
    "## Loop over participants"
   ]
  },
  {
   "cell_type": "code",
   "execution_count": null,
   "metadata": {},
   "outputs": [],
   "source": [
    "# ERPs will be recorded in a subject x channel x time matrix\n",
    "erps1 = np.full((len(eegfiles), 128, 2401), np.nan)\n",
    "erps2 = np.full((len(eegfiles), 128, 2401), np.nan)\n",
    "ft1 = np.full((len(eegfiles), 128, 1201), np.nan) \n",
    "ft2 = np.full((len(eegfiles), 128, 1201), np.nan)\n",
    "\n",
    "# Preprocess each subject's data, calculate ERPs for them, and run frequency tagging\n",
    "for i, subj in enumerate(eegfiles):\n",
    "    print('PROCESSING SUBJECT %s' % subj)\n",
    "    \n",
    "    # Preprocess and epcoh EEG data for the current subject\n",
    "    eeg = preprocess(eegfiles[subj], evcode_files[subj])\n",
    "    times = eeg.times\n",
    "    \n",
    "    # Calculate subject's ERPs for each channel in each condition\n",
    "    erp1 = eeg['1'].average()\n",
    "    erp2 = eeg['2'].average()\n",
    "    \n",
    "    # Save subject's ERPs into overall data matrices (and convert from V to uV)\n",
    "    erps1[i, :, :] = erp1.data * 1000000\n",
    "    erps2[i, :, :] = erp2.data * 1000000\n",
    "    \n",
    "    # Run frequency tagging on each ERP to get normalized power spectrum\n",
    "    freqs, ft1[i, :, :] = frequency_tagging(erp1.data, erp1.info['sfreq'])\n",
    "    freqs, ft2[i, :, :] = frequency_tagging(erp2.data, erp1.info['sfreq'])\n",
    "    \n",
    "    # Clean up this session's variables to free up space before loading next session\n",
    "    del eeg, erp1, erp2\n",
    "\n",
    "# Save ERP and frequency tagging matrices to numpy files\n",
    "np.save('C://Users/jpazd/Downloads/cond1_erps.npy', erps1)\n",
    "np.save('C://Users/jpazd/Downloads/cond2_erps.npy', erps2)\n",
    "np.save('C://Users/jpazd/Downloads/cond1_ft.npy', ft1)\n",
    "np.save('C://Users/jpazd/Downloads/cond2_ft.npy', ft2)"
   ]
  },
  {
   "cell_type": "markdown",
   "metadata": {},
   "source": [
    "## Dependent samples *t*-test to determine significant timepoints for channel E62 (Pz)"
   ]
  },
  {
   "cell_type": "code",
   "execution_count": null,
   "metadata": {},
   "outputs": [],
   "source": [
    "# Compare each time point between conditions, giving one t and p-value per time point\n",
    "tvals, pvals = ss.ttest_rel(erps1[:, 61, :], erps2[:, 61, :])\n",
    "\n",
    "# Normally you should run FDR correction, but for illustrative purposes we will not\n",
    "# sig, pvals_adjusted = fdrcorrection(pvals, alpha=0.05)\n",
    "sig = pvals < .05"
   ]
  },
  {
   "cell_type": "markdown",
   "metadata": {},
   "source": [
    "## Plot cross-participant average for channel E62 (Pz)"
   ]
  },
  {
   "cell_type": "code",
   "execution_count": null,
   "metadata": {},
   "outputs": [],
   "source": [
    "# Settings\n",
    "condition_names = ['Condition 1', 'Condition 2']\n",
    "color1 = 'C0'\n",
    "color2 = 'C3'\n",
    "line_opacity = 1\n",
    "shade_opacity = .1\n",
    "\n",
    "# Create axis lines at 0 uV and time 0\n",
    "plt.axvline(0, c='k', ls='--')\n",
    "plt.axhline(0, c='k', ls='--')\n",
    "\n",
    "# Plot ERPs\n",
    "m1 = np.mean(erps1[:, 61, :], axis=0)\n",
    "m2 = np.mean(erps2[:, 61, :], axis=0)\n",
    "sem1 = ss.sem(erps1[:, 61, :], axis=0)\n",
    "sem2 = ss.sem(erps2[:, 61, :], axis=0)\n",
    "l1, = plt.plot(times, m1, c=color1, alpha=line_opacity)\n",
    "plt.fill_between(times, m1-sem1, m1 + sem1, color=color1, alpha=shade_opacity)\n",
    "l2, = plt.plot(times, m2, c=color2, alpha=line_opacity)\n",
    "plt.fill_between(times, m2-sem2, m2 + sem2, color=color2, alpha=shade_opacity)\n",
    "\n",
    "# Mark significant time points with a black dot at 4 uV\n",
    "plt.scatter(times[sig], np.full(sig.sum(), 4), c='k', s=2)\n",
    "\n",
    "# Add labels and legend\n",
    "plt.xlabel('Time (s)')\n",
    "plt.ylabel('Amplitude (uV)')\n",
    "plt.legend([l1, l2], condition_names)"
   ]
  },
  {
   "cell_type": "markdown",
   "metadata": {},
   "source": [
    "## Dependent samples *t*-test to determine significant frequencies for channel E62 (Pz)"
   ]
  },
  {
   "cell_type": "code",
   "execution_count": null,
   "metadata": {},
   "outputs": [],
   "source": [
    "# Compare each time point between conditions, giving one t and p-value per time point\n",
    "tvals, pvals = ss.ttest_rel(ft1[:, 61, :], ft2[:, 61, :])\n",
    "\n",
    "# Normally you should run FDR correction, but for illustrative purposes we will not\n",
    "# sig, pvals_adjusted = fdrcorrection(pvals, alpha=0.05)\n",
    "sig = pvals < .05"
   ]
  },
  {
   "cell_type": "markdown",
   "metadata": {},
   "source": [
    "## Plot power spectra between conditions"
   ]
  },
  {
   "cell_type": "code",
   "execution_count": null,
   "metadata": {},
   "outputs": [],
   "source": [
    "condition_names = ['Condition 1', 'Condition 2']\n",
    "color1 = 'C0'\n",
    "color2 = 'C3'\n",
    "line_opacity = 1\n",
    "shade_opacity = .1\n",
    "\n",
    "m1 = np.mean(ft1[:, 61, :], axis=0)\n",
    "m2 = np.mean(ft2[:, 61, :], axis=0)\n",
    "sem1 = ss.sem(ft1[:, 61, :], axis=0)\n",
    "sem2 = ss.sem(ft2[:, 61, :], axis=0)\n",
    "\n",
    "l1, = plt.plot(freqs, m1, c=color1, alpha=line_opacity)\n",
    "plt.fill_between(freqs, m1-sem1, m1 + sem1, color=color1, alpha=shade_opacity)\n",
    "l2, = plt.plot(freqs, m2, c=color2, alpha=line_opacity)\n",
    "plt.fill_between(freqs, m2-sem2, m2 + sem2, color=color2, alpha=shade_opacity)\n",
    "\n",
    "plt.xlim(0, 40)\n",
    "plt.ylabel('Amplitude')\n",
    "plt.xlabel('Frequency')\n",
    "plt.legend([l1, l2], condition_names)"
   ]
  }
 ],
 "metadata": {
  "kernelspec": {
   "display_name": "Python 3",
   "language": "python",
   "name": "python3"
  },
  "language_info": {
   "codemirror_mode": {
    "name": "ipython",
    "version": 3
   },
   "file_extension": ".py",
   "mimetype": "text/x-python",
   "name": "python",
   "nbconvert_exporter": "python",
   "pygments_lexer": "ipython3",
   "version": "3.7.4"
  }
 },
 "nbformat": 4,
 "nbformat_minor": 4
}
