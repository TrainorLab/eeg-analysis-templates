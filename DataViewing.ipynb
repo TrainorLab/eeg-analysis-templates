{
 "cells": [
  {
   "cell_type": "markdown",
   "metadata": {},
   "source": [
    "# Imports\n",
    "\n",
    "For loading and viewing your data, you will only need to import MNE. The additional line \"%matplotlib qt\" will ensure that your plots appear in pop-up windows rather than in the Jupyter notebook itself. This specification is important, as MNE's data viewer will only work properly when running in a separate window."
   ]
  },
  {
   "cell_type": "code",
   "execution_count": null,
   "metadata": {},
   "outputs": [],
   "source": [
    "import mne\n",
    "%matplotlib qt"
   ]
  },
  {
   "cell_type": "markdown",
   "metadata": {},
   "source": [
    "# Loading EEG Data"
   ]
  },
  {
   "cell_type": "markdown",
   "metadata": {},
   "source": [
    "### EGI"
   ]
  },
  {
   "cell_type": "code",
   "execution_count": null,
   "metadata": {},
   "outputs": [],
   "source": [
    "# Set the path to the current session's EEG recording\n",
    "filepath = 'D://Documents/EEG_Workshop/data/Adult_08_T.mff'\n",
    "\n",
    "# Load the EEG file and extract trigger times\n",
    "eeg = mne.io.read_raw_egi(filepath, preload=True)\n",
    "eeg.rename_channels({'E129': 'Cz'})\n",
    "montage = mne.channels.make_standard_montage('GSN-HydroCel-129')\n",
    "eeg = eeg.set_montage(montage)\n",
    "events = mne.find_events(eeg)"
   ]
  },
  {
   "cell_type": "markdown",
   "metadata": {},
   "source": [
    "### Biosemi"
   ]
  },
  {
   "cell_type": "code",
   "execution_count": null,
   "metadata": {},
   "outputs": [],
   "source": [
    "# Set the path to the current session's EEG recording and digitization\n",
    "filepath = 'D://Documents/EEG_Workshop/data/CTpitchTapEEG_sub01_block1.bdf'\n",
    "montage_file = 'data/CTpitchTapEEG_sub01.sfp'\n",
    "\n",
    "# Load the EEG file and extract trigger times\n",
    "eeg = mne.io.read_raw_bdf(filepath, preload=True)\n",
    "events = mne.find_events(eeg, initial_event=True)\n",
    "\n",
    "# Load custom digitization file and apply to EEG object\n",
    "# (Note that all non-data channels are dropped in order for montage to work)\n",
    "montage = np.loadtxt(montage_file, dtype=str)\n",
    "montage[:, 0] = [ch.replace('-', '') for ch in montage[:, 0]]\n",
    "ch_names = montage[:, 0]\n",
    "pos = montage[:, 1:].astype(float)\n",
    "ch_pos = OrderedDict(zip(ch_names, pos))\n",
    "nasion, rpa, lpa = [ch_pos.pop(ch, None) for ch in ('NZ', 'RPA', 'LPA')]\n",
    "montage = mne.channels.make_dig_montage(ch_pos=ch_pos, coord_frame='unknown', nasion=nasion, rpa=rpa, lpa=lpa)\n",
    "channels = ['A%s' % i for i in range(1, 33)] + ['B%s' % i for i in range(1, 33)] + \\\n",
    "            ['C%s' % i for i in range(1, 33)] + ['D%s' % i for i in range(1, 33)]\n",
    "eeg = eeg.pick_channels(channels)\n",
    "eeg = eeg.set_montage(montage)"
   ]
  },
  {
   "cell_type": "markdown",
   "metadata": {},
   "source": [
    "# Viewing Sensor Locations\n",
    "The following code can be used to plot either a 2D or 3D map of your EEG electrode locations. The most useful settings are explained below. Advanced users can view the full list of settings here: https://mne.tools/stable/generated/mne.io.Raw.html\n",
    "\n",
    "### Settings:\n",
    "- **kind**: Specifies whether the electrode locations should be plotted as a 2D topomap or a 3D head map. For 2D, set to 'topomap'. For 3D, set to '3d'.\n",
    "- **show_names**: Set to True if you want to label each electrode with its name. Set to False to leave electrodes unlabeled. \n",
    "- **to_sphere**: This setting only matters if you are plotting as a topomap. Set to True to project channel locations to a sphere (this is the standard method of displaying a topomap). Set to False to display channels as if looking down on the cap from above."
   ]
  },
  {
   "cell_type": "code",
   "execution_count": null,
   "metadata": {
    "collapsed": false,
    "jupyter": {
     "outputs_hidden": false
    }
   },
   "outputs": [],
   "source": [
    "# Plot channel locations\n",
    "eeg.plot_sensors(kind='3d', show_names=True, to_sphere=True)"
   ]
  },
  {
   "cell_type": "markdown",
   "metadata": {},
   "source": [
    "# Plotting Continuous Data\n",
    "The code below can be used to visualize the raw EEG traces from your recording. The most useful settings are explained below. Advanced users can view the full list of settings here: https://mne.tools/stable/generated/mne.io.Raw.html\n",
    "\n",
    "Beyond acting as a data visualizer, the viewing panel also allows you to manually mark channels as bad by clicking anywhere along their data traces. Upon closing the viewer, any channels you marked as bad will be recorded in eeg.info['bads'].\n",
    "\n",
    "### Settings:\n",
    "\n",
    "The first two parameters specify how much data will appear in the window at one time.\n",
    "\n",
    "- **n_channels**: Specifies how many channels will display in the window at once. (Can be ajdusted in the EEG viewer using Page Up/Page Down)\n",
    "- **duration**: Specifies how many seconds of data will display in the window at once. (Can be ajdusted in the EEG viewer using Home/End)\n",
    "\n",
    "The next two parameters give the option to plot only a subset of your data.\n",
    "\n",
    "- **start**: Specifies how many seconds into the recording to start plotting, i.e. the start time of the plot. \n",
    "- **order**: Leave as None to plot all channels. Alternatively, specify a list of channel indices to only plot those channels in the order you provide.\n",
    "\n",
    "The final two parameters affect the formatting of the plot.\n",
    "\n",
    "- **butterfly**: Set to False to plot each channel on its own line. Set to True to plot all channels overlayed as a butterfly plot.\n",
    "- **scalings**: Specifies the scaling factor for the EEG traces. Leave as None to use default scaling. Set to 'auto' for auto-scaling based on the voltage of the signal. Otherwise, set to a dictionary specifying the scaling for each channel type, e.g. MNE recommends dict(eeg=20e-6, eog=150e-6). (Can be ajdusted in the EEG viewer using +/-)\n",
    "\n",
    "The plot() function also allows you to draw event markers over the EEG traces if you provide a matrix of event times. This matrix should have one row per event and three columns. The first column should list the index of the EEG sample corresponding to the start of each event, the second column can be ignored, and the third column should contain event ID numbers (if you have multiple types of events). To create an event matrix automatically from the EEG recording's trigger channel, you can run use the mne.find_events() function (shown in the code below)."
   ]
  },
  {
   "cell_type": "code",
   "execution_count": null,
   "metadata": {
    "collapsed": false,
    "jupyter": {
     "outputs_hidden": false
    }
   },
   "outputs": [],
   "source": [
    "# Plot continuous data\n",
    "eeg.plot(n_channels=32, \n",
    "         duration=10., \n",
    "         start=0.,\n",
    "         order=None,\n",
    "         butterfly=False,\n",
    "         scalings=None,\n",
    "         events=mne.find_events(eeg))"
   ]
  },
  {
   "cell_type": "markdown",
   "metadata": {},
   "source": [
    "# Plotting Epoched Data\n",
    "\n",
    "The method of plotting epoched data is very similar to plotting continuous data, just with slightly different parameters. The two code snippets below show 1) how to epoch your data using the trigger pulses in the EEG recording if you have not already done so, and 2) the function you can call to plot your epoched data.\n",
    "\n",
    "Beyond simply acting as a data visualizer, the viewing panel also allows you to manually mark channels as bad by clicking their names on the Y axis and to mark epochs as bad by clicking one of the data traces within an epoch. Upon closing the viewer, any channels you marked as bad will be recorded in eeg.info['bads'] and any epochs you marked as bad will be dropped from your data.\n",
    "\n",
    "Advanced users may want to reference the full list of plot settings here: https://mne.tools/stable/generated/mne.Epochs.html\n",
    "\n",
    "### Settings:\n",
    "\n",
    "First, there are two important settings when initially epoching your data.\n",
    "\n",
    "- **tmin**: How long (in seconds) each epoch should extend before the onset of the event.\n",
    "- **tmax**: How long (in seconds) each epoch should extend after the onset of the event.\n",
    "\n",
    "Next, there are several settings to use when plotting epochs, which are similar to those used when plotting continuous data. There are two parameters which set how much data will appear in the EEG viewer at once.\n",
    "\n",
    "- **n_channels**: Specifies how many channels will display in the window at once. (Can be ajdusted in the EEG viewer using Page Up/Page Down)\n",
    "- **n_epochs**: Specifies how many epochs will display in the window at once. (Can be adjusted in the EEG viewer using Home/End)\n",
    "\n",
    "There is one parameter that can be used if you wish to plot only a subset of channels.\n",
    "\n",
    "- **picks**: Leave as None to plot all channels. Alternatively, specify a list of channel names/indices to only plot those channels in the order you provide.\n",
    "\n",
    "Finally, there are two parameters that control the formatting of the plot.\n",
    "\n",
    "- **butterfly**: Set to False to plot each channel on its own line. Set to True to plot all channels overlayed as a butterfly plot.\n",
    "- **scalings**: Specifies the scaling factor for the EEG traces. Leave as None to use default scaling. Set to 'auto' for auto-scaling based on the voltage of the signal. Otherwise, set to a dictionary specifying the scaling for each channel type, e.g. MNE recommends dict(eeg=20e-6, eog=150e-6). (Can be adjusted in the EEG viewer using +/-)"
   ]
  },
  {
   "cell_type": "code",
   "execution_count": null,
   "metadata": {},
   "outputs": [],
   "source": [
    "# Epoch data around the trigger pulses in the EEG recording\n",
    "events = mne.find_events(eeg)\n",
    "eeg = mne.Epochs(eeg, events, tmin=-.5, tmax=1., preload=True)"
   ]
  },
  {
   "cell_type": "code",
   "execution_count": null,
   "metadata": {},
   "outputs": [],
   "source": [
    "# Plot epochs\n",
    "eeg.plot(n_channels=20, \n",
    "         n_epochs=10, \n",
    "         picks=None, \n",
    "         butterfly=False, \n",
    "         scalings='auto')"
   ]
  },
  {
   "cell_type": "code",
   "execution_count": null,
   "metadata": {},
   "outputs": [],
   "source": []
  }
 ],
 "metadata": {
  "kernelspec": {
   "display_name": "Python 3",
   "language": "python",
   "name": "python3"
  },
  "language_info": {
   "codemirror_mode": {
    "name": "ipython",
    "version": 3
   },
   "file_extension": ".py",
   "mimetype": "text/x-python",
   "name": "python",
   "nbconvert_exporter": "python",
   "pygments_lexer": "ipython3",
   "version": "3.7.7"
  }
 },
 "nbformat": 4,
 "nbformat_minor": 4
}
