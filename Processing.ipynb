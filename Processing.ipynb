{
 "cells": [
  {
   "cell_type": "markdown",
   "metadata": {},
   "source": [
    "# Imports\n",
    "\n",
    "You will need to import MNE in order to use its functions to load and preprocess your data. Numpy is an extremely useful package used for mathematical and matrix operations. Pandas is the most convenient way of reading event codes from CSV files, but can also be used for analyzing tables of data.\n",
    "\n",
    "If you wish to run artifact blocking, you will also need to import the run_ab function from artifact_blocking.py. Make sure you have a copy of artifact_blocking.py in the same folder as your own code to ensure that Python can find the function to import. If you try this and Python still cannot find artifact_blocking, use the alternative loading method shown below.\n",
    "\n",
    "Finally, the line \"%matplotlib qt\" ensures that any time you try to plot your data, it will appear in a separate pop-up window and not just embed itself in the notebook."
   ]
  },
  {
   "cell_type": "code",
   "execution_count": null,
   "metadata": {},
   "outputs": [],
   "source": [
    "%matplotlib qt\n",
    "import mne\n",
    "import numpy as np\n",
    "import pandas as pd\n",
    "from artifact_blocking import run_ab"
   ]
  },
  {
   "cell_type": "markdown",
   "metadata": {},
   "source": [
    "### Alternative loading method for artifact blocking\n",
    "\n",
    "You can directly tell Python to look in a specific directory for artifact_blocking.py by using the function sys.path.append()."
   ]
  },
  {
   "cell_type": "code",
   "execution_count": null,
   "metadata": {},
   "outputs": [],
   "source": [
    "import sys\n",
    "sys.path.append('D://Documents/EEG_Workshop/')\n",
    "from artifact_blocking import run_ab"
   ]
  },
  {
   "cell_type": "markdown",
   "metadata": {},
   "source": [
    "# Loading Data\n",
    "\n",
    "MNE provides functions for reading a wide variety of neuroimaging file types. Our lab primarily uses two EEG systems, a 129-channel EGI HydroCel GSN and a 128-channel BioSemi ActiveTwo system. Data from both of these systems can be easily loaded into MNE as shown below. Also included is the find_events() function, which extracts the trigger pulses from the recording and creates an N x 3 matrix of events that can later be used for epoching. The first column of the matrix lists each event's onset time (in samples) and the third column lists its event code.\n",
    "\n",
    "If you only care about a subset of your channels, you can set a list of channels you want to keep using the pick_channels() function, which will drop all other channels. Alternatively, you can use the drop_channels() function to drop a specific set of channels and keep the rest.\n",
    "\n",
    "If you need to re-code your events using external CSV files, you can use the code provided in the fifth cell below. This will overwrite the third column of the events matrix to contain the proper event codes, rather than the codes that appeared in the trigger channel during the recording.\n",
    "\n",
    "\n",
    "## EGI"
   ]
  },
  {
   "cell_type": "code",
   "execution_count": null,
   "metadata": {},
   "outputs": [],
   "source": [
    "# Set the path to the current session's EEG recording\n",
    "filepath = 'D://Documents/EEG_Workshop/data/Adult_08_T.mff'\n",
    "\n",
    "# Load the EEG file and extract trigger times\n",
    "eeg = mne.io.read_raw_egi(filepath, preload=True)\n",
    "eeg.rename_channels({'E129': 'Cz'})\n",
    "montage = mne.channels.make_standard_montage('GSN-HydroCel-129')\n",
    "eeg = eeg.set_montage(montage)\n",
    "events = mne.find_events(eeg)"
   ]
  },
  {
   "cell_type": "markdown",
   "metadata": {},
   "source": [
    "## BioSemi"
   ]
  },
  {
   "cell_type": "code",
   "execution_count": null,
   "metadata": {},
   "outputs": [],
   "source": [
    "# Set the path to the current session's EEG recording\n",
    "filepath = 'D://Documents/EEG_Workshop/data/CTpitchTapEEG_sub01_block1.bdf'\n",
    "montage_file = 'D://Documents/EEG_Workshop/data/CTpitchTapEEG_sub01.sfp'\n",
    "\n",
    "# Load the EEG file and extract trigger times\n",
    "eeg = mne.io.read_raw_bdf(filepath, preload=True)\n",
    "montage = mne.channels.read_custom_montage(montage_file)\n",
    "eeg = eeg.set_montage(montage)\n",
    "events = mne.find_events(eeg)"
   ]
  },
  {
   "cell_type": "markdown",
   "metadata": {},
   "source": [
    "## Picking & Dropping Channels"
   ]
  },
  {
   "cell_type": "code",
   "execution_count": null,
   "metadata": {},
   "outputs": [],
   "source": [
    "channels = ['E%s' % i for i in range(1, 129)]  # Example shorthand for keeping channels E1-E128\n",
    "eeg = eeg.pick_channels(channels)"
   ]
  },
  {
   "cell_type": "code",
   "execution_count": null,
   "metadata": {},
   "outputs": [],
   "source": [
    "channels = ['E1', 'E2', 'E3']  # Channels to drop\n",
    "eeg = eeg.drop_channels(channels)"
   ]
  },
  {
   "cell_type": "markdown",
   "metadata": {},
   "source": [
    "## Reading Event Codes"
   ]
  },
  {
   "cell_type": "code",
   "execution_count": null,
   "metadata": {},
   "outputs": [],
   "source": [
    "# Select only events with a specific trigger code (e.g., 1)\n",
    "# Only necessary if the number of trigger pulses in your recording does not match the number of events listed in your event code files\n",
    "events = events[events[:, 2] == 1]\n",
    "\n",
    "# Set the list of event code files for this session\n",
    "evcode_files = ['D://Documents/EEG_Workshop/data/Vid_Trg_files/TriWav6min1.csv',\n",
    "                'D://Documents/EEG_Workshop/data/Vid_Trg_files/TriWav6min2.csv',\n",
    "                'D://Documents/EEG_Workshop/data/Vid_Trg_files/TriWav6min3.csv']\n",
    "\n",
    "# Re-code events\n",
    "evcodes = []\n",
    "for f in evcode_files:\n",
    "    evcodes.append(pd.read_csv(f, header=None))\n",
    "evcodes = np.concatenate(evcodes).flatten()\n",
    "events[:, 2] = evcodes"
   ]
  },
  {
   "cell_type": "markdown",
   "metadata": {},
   "source": [
    "# Filtering\n",
    "\n",
    "MNE allows you to apply filters to your data simply by calling the .filter() method on your EEG object. This function will work regardless of whether your data is formatted as epochs or continuous data, but note that it is generally preferable to filter your data before epoching in order to avoid edge artifacts. The .filter() method allows allows you to perform highpass, lowpass, or bandpass filtering using an FIR or IIR filter. The settings for both types of filters are explained below. **It is recommended that you filter your data prior to epoching.**\n",
    "\n",
    "**To avoid confusion, note that MNE names its filter settings as if it were constructing a bandpass filter.** For example, you would run a 1 Hz highpass filter by setting l_freq = 1, not h_freq = 1. This is because the edge of the highpass filter forms the **lower** edge of the pass band. The edge of the lowpass filter forms the **higher** edge of the pass band.\n",
    "\n",
    "## FIR Filter Settings:\n",
    "\n",
    "The first two parameters allow you to specify the frequencies at which you wish to highpass and/or lowpass filter. Note that these values define the edge frequency of the filter, not the -6 dB cutoff frequency.\n",
    "\n",
    "- **l_freq**: Specifies the band edge of the highpass filter (i.e. the lowest unattenuated frequency). Set to None if you do not wish to highpass filter.\n",
    "- **h_freq**: Specifies the band edge of the lowpass filter (i.e. the highest unattenuated frequency). Set to None if you do not wish to lowpass filter.\n",
    "\n",
    "The next two parameters allow you to specify the width of the highpass and lowpass filters' transition bands. The -6 dB cutoff frequency will be in the center of the transition band.\n",
    "\n",
    "- **l_trans_bandwidth**: Sets the width of the highpass filter transition band. Can be set to 'auto' to automatically choose based on the highpass frequency.\n",
    "- **h_trans_bandwidth**: Sets the width of the lowpass filter transition band. Can be set to 'auto' to automatically choose based on the lowpass frequency.\n",
    "\n",
    "The next three parameters define the length and shape of the filter's window, as well as the phase of the filter.\n",
    "\n",
    "- **filter_length**: Specifies the temporal length of the filter. Can be set to 'auto' to automatically choose based on the width of the transition bands, or you can manually specify by typing a string such as '10s' or '5000ms'.\n",
    "- **fir_window**: Specifies the shape of the filter window. Set to 'hamming' for a Hamming window, 'hann' for a Hann/Hanning window, or 'blackman' for a Blackman window.\n",
    "- **phase**: Set to 'zero' for a (non-causal) zero-phase filter. Set to 'zero-double' to perform the same (non-causal) zero-phase filter forwards and then backwards over the data. Set to 'minimum' for a (causal) minimum-phase filter.\n",
    "\n",
    "The final parameter allows you to choose which channels you wish to apply your filter to.\n",
    "\n",
    "- **picks**: Leave as None to filter all channels, or set to a list of channel names or indices to filter only those specific channels."
   ]
  },
  {
   "cell_type": "code",
   "execution_count": null,
   "metadata": {},
   "outputs": [],
   "source": [
    "# FIR Filtering\n",
    "l_freq = .5\n",
    "h_freq = 95\n",
    "l_trans_bandwidth = 'auto'\n",
    "h_trans_bandwidth = 'auto'\n",
    "filter_length = 'auto'\n",
    "fir_window = 'hamming'\n",
    "phase = 'zero'\n",
    "picks = None\n",
    "eeg = eeg.filter(l_freq, h_freq, method='fir', fir_design='firwin', l_trans_bandwidth=l_trans_bandwidth, h_trans_bandwidth=h_trans_bandwidth, filter_length=filter_length, fir_window=fir_window, phase=phase, pad='reflect_limited', picks=picks)"
   ]
  },
  {
   "cell_type": "markdown",
   "metadata": {},
   "source": [
    "## IIR (Butterworth) Filter Settings:\n",
    "\n",
    "When running a Butterworth filter, you will only need to specify a highpass and/or lowpass filter cutoff frequency, the filter order, and which channels you wish to filter.\n",
    "\n",
    "- **l_freq**: Specifies the -6 dB cutoff frequency of the highpass filter. Set to None if you do not wish to highpass filter.\n",
    "- **h_freq**: Specifies the -6 dB cutoff frequency of the lowpass filter. Set to None if you do not wish to lowpass filter.\n",
    "- **order**: Specifies the filter order.\n",
    "- **picks**: Leave as None to filter all channels, or set to a list of channel names or indices to filter only those specific channels."
   ]
  },
  {
   "cell_type": "code",
   "execution_count": null,
   "metadata": {},
   "outputs": [],
   "source": [
    "# IIR Filtering\n",
    "l_freq = .5\n",
    "h_freq = 95\n",
    "order = 4\n",
    "picks = None\n",
    "eeg = eeg.filter(l_freq, h_freq, method='iir', iir_params=dict(ftype='butter', order=order, output='sos'), picks=picks)"
   ]
  },
  {
   "cell_type": "markdown",
   "metadata": {},
   "source": [
    "# Bad Channel Rejection & Interpolation\n",
    "\n",
    "To manually mark electrodes as bad via visual inspection, simply plot your data with MNE's interactive data viewer and click on the names of any that look bad. Upon closing the data viewer, MNE will update your EEG object with a list of all the channels you marked as bad. You can view this list by looking at eeg.info['bads']. Various other MNE functions, including common average referencing and ICA, will automatically exclude channels marked as bad from their calculations. You can also use the interpolate_bads() function to interpolate all channels marked as bad using the spherical spline method. Both bad channel marking and interpolation can be performed on continuous or epoched data.\n",
    "\n",
    "### Settings:\n",
    "\n",
    "- **reset_bads**: If True, interpolated channels will no longer be considered bad channels by other MNE functions. If False, interpolated channels will still be treated as bad channels by other MNE functions."
   ]
  },
  {
   "cell_type": "code",
   "execution_count": null,
   "metadata": {},
   "outputs": [],
   "source": [
    "# Use MNE's interactive data viewer to mark bad channels\n",
    "eeg.plot()"
   ]
  },
  {
   "cell_type": "code",
   "execution_count": null,
   "metadata": {},
   "outputs": [],
   "source": [
    "n_interp = len(eeg.info['bads'])  # Save the number of bad channels as a variable in case we need it for ICA\n",
    "eeg = eeg.interpolate_bads(reset_bads=True)  # Interpolate all bad channels"
   ]
  },
  {
   "cell_type": "markdown",
   "metadata": {},
   "source": [
    "# Artifact Blocking\n",
    "\n",
    "Artifact blocking is a method developed by our lab, and is particularly useful for cleaning the irregular artifacts that occur in infant data. Note that you will need to import the run_ab function from the file artifact_blocking.py in order to use artifact blocking, as it uses house-built code rather than being part of MNE. **Artifact blocking must be run on continuous data; it cannot be applied to epoched data.** Note that the EEG object will be modified in-place.\n",
    "\n",
    "### Settings:\n",
    "\n",
    "- **threshold**: Set the artifact detection threshold (in microvolts).\n",
    "- **method**: Set to 'window' to run artifact blocking with a sliding window. Set to 'total' to run artifact blocking on the entire session at once (requires more memory)."
   ]
  },
  {
   "cell_type": "code",
   "execution_count": null,
   "metadata": {},
   "outputs": [],
   "source": [
    "# Artifact Blocking\n",
    "run_ab(eeg, threshold=75, method='window')"
   ]
  },
  {
   "cell_type": "markdown",
   "metadata": {},
   "source": [
    "# Referencing\n",
    "\n",
    "MNE provides a variety of data referencing schema, but the most common methods in scalp EEG are common average referencing and unipolar referencing. For information on how to apply a bipolar referencing scheme, see https://mne.tools/stable/generated/mne.set_bipolar_reference.html. The set_eeg_reference() function can be used on both continuous and epoched data.\n",
    "\n",
    "### Settings:\n",
    "\n",
    "- **ref_channels**: Set to 'average' to apply common average referencing. Set to the name of a single channel to use that channel as the reference. Set to a list of channel names to use the average of those electrodes as the reference. *Note that average referencing will automatically exclude any electrodes currently marked as bad.*"
   ]
  },
  {
   "cell_type": "code",
   "execution_count": null,
   "metadata": {},
   "outputs": [],
   "source": [
    "# Referencing\n",
    "eeg = eeg.set_eeg_reference(ref_channels='average')"
   ]
  },
  {
   "cell_type": "markdown",
   "metadata": {},
   "source": [
    "# Epoching\n",
    "\n",
    "In order to epoch your data, you just need to use the matrix that was generated from your event triggers when you loaded your data, and to define the time period that each epoch should inlude relative to the event onsets. Note that MNE will not allow any epochs to overlap, and will return an error if any of your time windows intersect with one another.\n",
    "\n",
    "### Settings\n",
    "\n",
    "- **tmin**: Defines how many seconds after the event onset each epoch should begin. Set to a negative value if you want the epoch to begin prior to the event onset.\n",
    "- **tmax**: Defines how many seconds after the event onset each epoch should end. Set to a negative value if you want the epoch to end prior to the event onset."
   ]
  },
  {
   "cell_type": "code",
   "execution_count": null,
   "metadata": {},
   "outputs": [],
   "source": [
    "# Epoch data around the trigger pulses in the EEG recording\n",
    "eeg = mne.Epochs(eeg, events, tmin=-.5, tmax=1., preload=True)"
   ]
  },
  {
   "cell_type": "markdown",
   "metadata": {},
   "source": [
    "**Note:** To access all epochs from only one condition, you can use the event code or condition name as an index, like so:"
   ]
  },
  {
   "cell_type": "code",
   "execution_count": null,
   "metadata": {},
   "outputs": [],
   "source": [
    "eeg['4']"
   ]
  },
  {
   "cell_type": "markdown",
   "metadata": {},
   "source": [
    "# Baseline Correction\n",
    "In order to baseline correct each epoch by its own baseline period (e.g. 200 ms prior to event onset), MNE provides the apply_baseline() function. Baseline correction is specific to epoched data, and can not be used on continuous data.\n",
    "\n",
    "### Settings:\n",
    "- **start**: The start time in seconds of the window to be used as a baseline, relative to the event onset (*not* relative to the start of the epoch). For example, set to -0.2 to start your baseline period 200 ms prior to each event. If None, baseline period will begin at the start of the epoch.\n",
    "- **stop**: The end time in seconds of the window to be used as a baseline, relative to the event onset (*not* relative to the start of the epoch). For instance, set to 0 to end your baseline at the onset of each event. If None, baseline period will extend until the end of the epoch."
   ]
  },
  {
   "cell_type": "code",
   "execution_count": null,
   "metadata": {},
   "outputs": [],
   "source": [
    "# Baseline correct\n",
    "start = None\n",
    "stop = 0\n",
    "eeg = eeg.apply_baseline((start, stop))"
   ]
  },
  {
   "cell_type": "markdown",
   "metadata": {},
   "source": [
    "# Epoch Rejection\n",
    "\n",
    "The drop_bad() function can be used to reject epochs whose peak-to-peak amplitudes exceed a given threshold on one or more channels. Rejected epochs will be directly removed from your data object. This function is specific to epoched data.\n",
    "\n",
    "### Settings:\n",
    "\n",
    "- **threshold**: The maximum acceptible peak-to-peak amplitude (in microvolts)."
   ]
  },
  {
   "cell_type": "code",
   "execution_count": null,
   "metadata": {},
   "outputs": [],
   "source": [
    "# Reject epochs using peak-to-peak amplitude\n",
    "threshold = 150\n",
    "eeg = eeg.drop_bad({'eeg': threshold / 1000000.})"
   ]
  },
  {
   "cell_type": "markdown",
   "metadata": {},
   "source": [
    "# Downsampling\n",
    "\n",
    "Downsampling can be useful for reducing the memory load of your data processing and speed up runtimes. MNE's resample() function uses a frequency-domain filter to low-pass filter and downsample the data. You can also use this function to upsample your data, though this is not common practice.\n",
    "\n",
    "**Note**: You should downsample your data only after epoching. If you downsample the raw data and then try to create epochs using downsampled triggers, you will introduce jitter into your event onset times.\n",
    "\n",
    "## Settings:\n",
    "- **sfreq**: The sampling rate you to which your data will be downsampled.\n",
    "- **pad**: The type of padding you wish to use for the filter. Set to \"edge\" to pad each epoch with its own first/last voltage value. Set to \"reflect-limited\" to pad each epoch with a mirrored version of itself."
   ]
  },
  {
   "cell_type": "code",
   "execution_count": null,
   "metadata": {},
   "outputs": [],
   "source": [
    "eeg = eeg.resample(sfreq=100., pad='edge')"
   ]
  },
  {
   "cell_type": "markdown",
   "metadata": {},
   "source": [
    "# ICA Artifact Rejection\n",
    "\n",
    "Independent Component Analysis (ICA) is a popular method for separating muscle artifacts and other sources of noise from actual brain activity. MNE performs ICA in a two-stage process. First, it decomposes the channel data into its principal components via PCA in order to decorrelate the channels and re-scale them to unit variance. It then runs ICA on the PCA components. If *n_components* is set less than the number of channels in the data, dimensionality reduction is performed by dropping the last *n_channels* - *n_components* PCs prior to running ICA.\n",
    "\n",
    "ICA can be run either on continuous or epoched data. However, if using continuous data, be aware that highly irregular activity during break periods may reduce the quality of your ICA solution. ICA also has high memory requirements, so running it on epoched and/or downsampled data may be necessary if using a system with limited RAM.\n",
    "\n",
    "**Note**: ICA is sensitive to baseline drift, and requires the data be high-pass filtered at (at least) 0.5 Hz or 1 Hz prior to running ICA.\n",
    "\n",
    "### How many components to use?\n",
    "\n",
    "If you have not altered your data in any way prior to running ICA, the maximum number of components you can decompose will be identical to the number of channels in your dataset. However, certain procedures such as re-referencing and interpolation can reduce the rank of your data, consequently reducing the maximum number of components you can actually decompose. Common average referencing will reduce the rank of your data by one. Channel interpolation further reduces the rank of your data by one for each interpolated channel. This is because the interpolated version of a channel is simply a weighted sum of other channels, meaning that its variance is entirely accounted for by those other channels. **You should therefore select a number of components equal to the number of channels in your data, subtracting one if you used an average reference, and subtracting an additional one for each channel you have interpolated.**\n",
    "\n",
    "### Settings:\n",
    "- **n_components**: The number of ICA components that will be estimated. Cannot be greater than *max_pca_components*. See above for notes on best practices for choosing an appropriate number of components.\n",
    "- **method**: Specifies which ICA algorithm to use. Options are \"infomax\" (Infomax), \"fastica\" (FastICA), and \"picard\" (PICARD: Preconditioned ICA for Real Data).\n",
    "- **random_state**: ICA is non-deterministic, but you can set a specific random seed (any integer) to guarantee the same result when re-running ICA on the same data. If left as None, the random seed will be selected at random and results will differ between runs.\n",
    "\n",
    "For information on more advanced ICA usage in MNE, see https://mne.tools/stable/auto_tutorials/preprocessing/plot_40_artifact_correction_ica.html#sphx-glr-auto-tutorials-preprocessing-plot-40-artifact-correction-ica-py."
   ]
  },
  {
   "cell_type": "code",
   "execution_count": null,
   "metadata": {},
   "outputs": [],
   "source": [
    "# Run ICA\n",
    "n_components = len(eeg.ch_names) - (1 + n_interp)\n",
    "method = 'infomax'\n",
    "random_state = None\n",
    "ica = mne.preprocessing.ICA(n_components=n_components, max_pca_components=n_components, random_state=random_state, method=method)\n",
    "ica.fit(eeg)"
   ]
  },
  {
   "cell_type": "markdown",
   "metadata": {},
   "source": [
    "### Identifying Artifactual Components\n",
    "Once you have finished running ICA, MNE offers several plotting functions for visualizing your components and manually marking those which appear to be artifactual. Any components you mark as artifactual will be recorded in the ICA object once you close the plotting window."
   ]
  },
  {
   "cell_type": "code",
   "execution_count": null,
   "metadata": {},
   "outputs": [],
   "source": [
    "# View the topographies of all components to manually identify bad components (Click on component's name to mark as bad)\n",
    "ica.plot_components()"
   ]
  },
  {
   "cell_type": "code",
   "execution_count": null,
   "metadata": {},
   "outputs": [],
   "source": [
    "# View time courses of all components to manually identify bad components (Click on component's time course to mark as bad)\n",
    "ica.plot_sources(eeg)"
   ]
  },
  {
   "cell_type": "code",
   "execution_count": null,
   "metadata": {},
   "outputs": [],
   "source": [
    "# View detailed information on specific components\n",
    "picks = [0, 1, 2, 3]\n",
    "ica.plot_properties(eeg, picks=picks)"
   ]
  },
  {
   "cell_type": "markdown",
   "metadata": {},
   "source": [
    "### Removing bad components\n",
    "\n",
    "Subsequently running ica.apply(eeg) will remove from your data any components that you have marked as bad."
   ]
  },
  {
   "cell_type": "code",
   "execution_count": null,
   "metadata": {},
   "outputs": [],
   "source": [
    "# Remove bad components from data\n",
    "ica.apply(eeg)"
   ]
  },
  {
   "cell_type": "markdown",
   "metadata": {},
   "source": [
    "### Saving and Loading ICA Solutions\n",
    "If you wish to save your ICA solution to a file and load it back up later, you can use the functions below to do so. Note that MNE requires all ICA savefiles to end in \"-ica.fif\"."
   ]
  },
  {
   "cell_type": "code",
   "execution_count": null,
   "metadata": {},
   "outputs": [],
   "source": [
    "# Save ICA solution to a file\n",
    "filename = 'C://Users/jpazd/Downloads/Adult_12_D-ica.fif'\n",
    "ica.save(filename)"
   ]
  },
  {
   "cell_type": "code",
   "execution_count": null,
   "metadata": {},
   "outputs": [],
   "source": [
    "# Load ICA solution from a file\n",
    "filename = 'C://Users/jpazd/Downloads/Adult_12_D-ica.fif'\n",
    "ica = mne.preprocessing.read_ica(filename)"
   ]
  },
  {
   "cell_type": "markdown",
   "metadata": {},
   "source": [
    "# Surface Laplacian / Current Source Density Transform\n",
    "\n",
    "It is common to perform a surface Laplacian transform prior to connectivity analyses. MNE provides the compute_current_source_density() function to transform your data using a surface Laplacian. *Note that this technique was added to MNE in late 2019 and requires v0.20 or higher.*\n",
    "\n",
    "### Settings:\n",
    "\n",
    "- **sphere**: Defines the model of the head as a sphere of the form (x, y, z, r), where x, y, and z are the coordinates of the center of the sphere and r is the radius of the sphere in meters. If you have added a digitization of the electrode locations to your EEG object, you can also set sphere to 'auto' to use that.\n",
    "- **lambda2**: Sets the regularization parameter (MNE default is 1e-05).\n",
    "- **stiffness**: Sets the stiffness of the spherical spline (MNE default is 4).\n",
    "- **n_legendre_terms**: Sets the number of Legendre terms to evaluate (MNE default is 50)."
   ]
  },
  {
   "cell_type": "code",
   "execution_count": null,
   "metadata": {},
   "outputs": [],
   "source": [
    "eeg = mne.preprocessing.compute_current_source_density(eeg, \n",
    "                                                       sphere=(0, 0, 0, .1),\n",
    "                                                       lambda2=1e-05, \n",
    "                                                       stiffness=4, \n",
    "                                                       n_legendre_terms=50, \n",
    "                                                       copy=False)"
   ]
  },
  {
   "cell_type": "markdown",
   "metadata": {},
   "source": [
    "# Creating Regions of Interest\n",
    "\n",
    "Sometimes you may want to analyze entire regions of interest rather than individual channels. The code below will help you group your data into regions of interest. It first creates new data channels by averaging the electrodes within each region you define. It then replaces your original channel x time data with an ROI x time structure (if running before epoching) or your event x channel x time data with an even x ROI x time structure (if running after epoching).\n",
    "\n",
    "To use this code, you should only need to change the ROI definitions at the top."
   ]
  },
  {
   "cell_type": "code",
   "execution_count": null,
   "metadata": {},
   "outputs": [],
   "source": [
    "# Define regions of interest -- this should be a dictionary where ROI names are mapped to lists of the channels they contain\n",
    "rois = dict(\n",
    "    Fz=['E4', 'E10', 'E11', 'E16', 'E18', 'E19'],\n",
    "    Cz=['E7', 'E31', 'E55', 'E80', 'E106'],\n",
    "    Pz=['E61', 'E62', 'E67', 'E72', 'E77', 'E78']\n",
    ")\n",
    "\n",
    "# Build a weight matrix that maps channels to regions of interest\n",
    "proj_vec = np.zeros((len(rois), len(eeg.ch_names)), dtype=float)\n",
    "for i, roi in enumerate(rois):\n",
    "    rois[roi] = mne.pick_channels(eeg.ch_names, include=rois[roi])\n",
    "    proj_vec[i, rois[roi]] = 1\n",
    "    proj_vec[i, :] /= proj_vec[i, :].sum()\n",
    "\n",
    "# Replace old EEG object with a new one organized by ROI\n",
    "roi_info = mne.create_info(ch_names=[k for k in rois], sfreq=eeg.info['sfreq'], ch_types='eeg')\n",
    "if isinstance(eeg, mne.io.BaseRaw):\n",
    "    eeg = mne.io.RawArray(np.dot(proj_vec, eeg.get_data()), roi_info)\n",
    "elif isinstance(eeg, mne.BaseEpochs):\n",
    "    eeg = mne.EpochsArray(np.array([np.dot(proj_vec, epoch) for epoch in eeg.get_data()]), roi_info, events=eeg.events, tmin=eeg.tmin)\n",
    "else:\n",
    "    raise ValueError('Can only convert channels to ROIs within Raw and Epochs objects, not %s.' % type(eeg))"
   ]
  },
  {
   "cell_type": "markdown",
   "metadata": {},
   "source": [
    "# Saving & Loading Preprocessed Epochs\n",
    "\n",
    "If you wish to save your preprocessed epochs to a file, so that you do not need to re-process them the next time you look at your data, you can simply call the save() method of an EEG object. To load the data from that file later, simply use the mne.read_epochs() function. Note that MNE requires all savefiles for epoched data to end with \"-epo.fif\"."
   ]
  },
  {
   "cell_type": "code",
   "execution_count": null,
   "metadata": {},
   "outputs": [],
   "source": [
    "# Save epochs to file\n",
    "eeg.save('C://Users/jpazd/Downloads/Adult_12_D-epo.fif')"
   ]
  },
  {
   "cell_type": "code",
   "execution_count": null,
   "metadata": {},
   "outputs": [],
   "source": [
    "# Load epochs from file\n",
    "eeg = mne.read_epochs('C://Users/jpazd/Downloads/Adult_12_D-epo.fif', preload=True)"
   ]
  }
 ],
 "metadata": {
  "kernelspec": {
   "display_name": "Python 3",
   "language": "python",
   "name": "python3"
  },
  "language_info": {
   "codemirror_mode": {
    "name": "ipython",
    "version": 3
   },
   "file_extension": ".py",
   "mimetype": "text/x-python",
   "name": "python",
   "nbconvert_exporter": "python",
   "pygments_lexer": "ipython3",
   "version": "3.7.7"
  }
 },
 "nbformat": 4,
 "nbformat_minor": 4
}
